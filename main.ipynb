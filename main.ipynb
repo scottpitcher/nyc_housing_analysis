{
 "cells": [
  {
   "cell_type": "markdown",
   "metadata": {},
   "source": [
    "## Data Importing"
   ]
  },
  {
   "cell_type": "code",
   "execution_count": 2,
   "metadata": {},
   "outputs": [
    {
     "name": "stderr",
     "output_type": "stream",
     "text": [
      "/Users/scottpitcher/Desktop/python/Github/nyc_housing_analysis/.venv/lib/python3.10/site-packages/tqdm/auto.py:21: TqdmWarning: IProgress not found. Please update jupyter and ipywidgets. See https://ipywidgets.readthedocs.io/en/stable/user_install.html\n",
      "  from .autonotebook import tqdm as notebook_tqdm\n"
     ]
    },
    {
     "ename": "ModuleNotFoundError",
     "evalue": "No module named 'shap'",
     "output_type": "error",
     "traceback": [
      "\u001b[0;31m---------------------------------------------------------------------------\u001b[0m",
      "\u001b[0;31mModuleNotFoundError\u001b[0m                       Traceback (most recent call last)",
      "\u001b[1;32m/Users/scottpitcher/Desktop/python/Github/nyc_housing_analysis/main.ipynb Cell 2\u001b[0m line \u001b[0;36m1\n\u001b[1;32m      <a href='vscode-notebook-cell:/Users/scottpitcher/Desktop/python/Github/nyc_housing_analysis/main.ipynb#W1sZmlsZQ%3D%3D?line=8'>9</a>\u001b[0m \u001b[39mimport\u001b[39;00m\u001b[39m \u001b[39m\u001b[39mxgboost\u001b[39;00m\u001b[39m \u001b[39m\u001b[39mas\u001b[39;00m\u001b[39m \u001b[39m\u001b[39mxgb\u001b[39;00m\n\u001b[1;32m     <a href='vscode-notebook-cell:/Users/scottpitcher/Desktop/python/Github/nyc_housing_analysis/main.ipynb#W1sZmlsZQ%3D%3D?line=9'>10</a>\u001b[0m \u001b[39mfrom\u001b[39;00m\u001b[39m \u001b[39m\u001b[39mxgboost\u001b[39;00m\u001b[39m \u001b[39m\u001b[39mimport\u001b[39;00m XGBRegressor\n\u001b[0;32m---> <a href='vscode-notebook-cell:/Users/scottpitcher/Desktop/python/Github/nyc_housing_analysis/main.ipynb#W1sZmlsZQ%3D%3D?line=10'>11</a>\u001b[0m \u001b[39mimport\u001b[39;00m\u001b[39m \u001b[39m\u001b[39mshap\u001b[39;00m\n\u001b[1;32m     <a href='vscode-notebook-cell:/Users/scottpitcher/Desktop/python/Github/nyc_housing_analysis/main.ipynb#W1sZmlsZQ%3D%3D?line=12'>13</a>\u001b[0m \u001b[39mfrom\u001b[39;00m\u001b[39m \u001b[39m\u001b[39mkagglehub\u001b[39;00m\u001b[39m \u001b[39m\u001b[39mimport\u001b[39;00m KaggleDatasetAdapter\n\u001b[1;32m     <a href='vscode-notebook-cell:/Users/scottpitcher/Desktop/python/Github/nyc_housing_analysis/main.ipynb#W1sZmlsZQ%3D%3D?line=13'>14</a>\u001b[0m \u001b[39mfrom\u001b[39;00m\u001b[39m \u001b[39m\u001b[39msklearn\u001b[39;00m\u001b[39m.\u001b[39;00m\u001b[39mpreprocessing\u001b[39;00m\u001b[39m \u001b[39m\u001b[39mimport\u001b[39;00m StandardScaler\n",
      "\u001b[0;31mModuleNotFoundError\u001b[0m: No module named 'shap'"
     ]
    }
   ],
   "source": [
    "# Import packages\n",
    "import pandas as pd\n",
    "pd.set_option('display.max_columns', None)\n",
    "import numpy as np\n",
    "import matplotlib.pyplot as plt\n",
    "import seaborn as sns\n",
    "import kagglehub\n",
    "import os\n",
    "import xgboost as xgb\n",
    "from xgboost import XGBRegressor\n",
    "\n",
    "from kagglehub import KaggleDatasetAdapter\n",
    "from sklearn.preprocessing import StandardScaler\n",
    "from sklearn.model_selection import train_test_split, GridSearchCV\n",
    "from sklearn.tree import DecisionTreeRegressor\n",
    "from sklearn.ensemble import RandomForestRegressor\n",
    "from sklearn.linear_model import LinearRegression\n",
    "from statsmodels.stats.outliers_influence import variance_inflation_factor\n",
    "from sklearn.metrics import mean_squared_error, mean_absolute_percentage_error\n",
    "from itertools import product\n",
    "\n",
    "import warnings\n",
    "warnings.filterwarnings(\"ignore\")\n",
    "\n",
    "print(\"Packages imported!\")"
   ]
  },
  {
   "cell_type": "code",
   "execution_count": null,
   "metadata": {},
   "outputs": [
    {
     "ename": "",
     "evalue": "",
     "output_type": "error",
     "traceback": [
      "\u001b[1;31mFailed to start the Kernel. \n",
      "\u001b[1;31mUnable to start Kernel '.venv (Python 3.10.16)' due to a timeout waiting for the ports to get used. \n",
      "\u001b[1;31mView Jupyter <a href='command:jupyter.viewOutput'>log</a> for further details."
     ]
    }
   ],
   "source": [
    "dir_path = \"data\"\n",
    "file_path = os.path.join(dir_path, \"raw_data.csv\")\n",
    "path = \"manhattan.csv\"\n",
    "\n",
    "# Load the latest version\n",
    "df = kagglehub.load_dataset(\n",
    "  KaggleDatasetAdapter.PANDAS,\n",
    "  \"zohaib30/streeteasy-dataset\",\n",
    "  path=path)\n",
    "\n",
    "if not os.path.exists(dir_path):\n",
    "    os.makedirs(dir_path)\n",
    "\n",
    "df.to_csv(file_path, index=False)\n",
    "\n",
    "df.head()"
   ]
  },
  {
   "cell_type": "markdown",
   "metadata": {},
   "source": [
    "# Data Inspection"
   ]
  },
  {
   "cell_type": "code",
   "execution_count": null,
   "metadata": {},
   "outputs": [
    {
     "ename": "",
     "evalue": "",
     "output_type": "error",
     "traceback": [
      "\u001b[1;31mFailed to start the Kernel. \n",
      "\u001b[1;31mUnable to start Kernel '.venv (Python 3.10.16)' due to a timeout waiting for the ports to get used. \n",
      "\u001b[1;31mView Jupyter <a href='command:jupyter.viewOutput'>log</a> for further details."
     ]
    }
   ],
   "source": [
    "df.info()"
   ]
  },
  {
   "cell_type": "markdown",
   "metadata": {},
   "source": [
    "According to the above, there's 3539 rows in the data, with no Null entries."
   ]
  },
  {
   "cell_type": "code",
   "execution_count": null,
   "metadata": {},
   "outputs": [
    {
     "ename": "",
     "evalue": "",
     "output_type": "error",
     "traceback": [
      "\u001b[1;31mFailed to start the Kernel. \n",
      "\u001b[1;31mUnable to start Kernel '.venv (Python 3.10.16)' due to a timeout waiting for the ports to get used. \n",
      "\u001b[1;31mView Jupyter <a href='command:jupyter.viewOutput'>log</a> for further details."
     ]
    }
   ],
   "source": [
    "df.describe()"
   ]
  },
  {
   "cell_type": "code",
   "execution_count": null,
   "metadata": {},
   "outputs": [
    {
     "ename": "",
     "evalue": "",
     "output_type": "error",
     "traceback": [
      "\u001b[1;31mFailed to start the Kernel. \n",
      "\u001b[1;31mUnable to start Kernel '.venv (Python 3.10.16)' due to a timeout waiting for the ports to get used. \n",
      "\u001b[1;31mView Jupyter <a href='command:jupyter.viewOutput'>log</a> for further details."
     ]
    }
   ],
   "source": [
    "{column: len(df[column].unique()) for column in df.select_dtypes(\"object\").columns }"
   ]
  },
  {
   "cell_type": "code",
   "execution_count": null,
   "metadata": {},
   "outputs": [
    {
     "ename": "",
     "evalue": "",
     "output_type": "error",
     "traceback": [
      "\u001b[1;31mFailed to start the Kernel. \n",
      "\u001b[1;31mUnable to start Kernel '.venv (Python 3.10.16)' due to a timeout waiting for the ports to get used. \n",
      "\u001b[1;31mView Jupyter <a href='command:jupyter.viewOutput'>log</a> for further details."
     ]
    }
   ],
   "source": [
    "df['neighborhood'].value_counts()"
   ]
  },
  {
   "cell_type": "markdown",
   "metadata": {},
   "source": [
    "Looking at this, there's only two columns of cat vars, and in those cat vars, one column only has one unique value. We'll drop that column in preprocessing."
   ]
  },
  {
   "cell_type": "code",
   "execution_count": null,
   "metadata": {},
   "outputs": [
    {
     "ename": "",
     "evalue": "",
     "output_type": "error",
     "traceback": [
      "\u001b[1;31mFailed to start the Kernel. \n",
      "\u001b[1;31mUnable to start Kernel '.venv (Python 3.10.16)' due to a timeout waiting for the ports to get used. \n",
      "\u001b[1;31mView Jupyter <a href='command:jupyter.viewOutput'>log</a> for further details."
     ]
    }
   ],
   "source": [
    "df['neighborhood'].unique()"
   ]
  },
  {
   "cell_type": "markdown",
   "metadata": {},
   "source": [
    "Taking a look at the neighborhoods, there don't seem to be any false NAs."
   ]
  },
  {
   "cell_type": "code",
   "execution_count": null,
   "metadata": {},
   "outputs": [
    {
     "ename": "",
     "evalue": "",
     "output_type": "error",
     "traceback": [
      "\u001b[1;31mFailed to start the Kernel. \n",
      "\u001b[1;31mUnable to start Kernel '.venv (Python 3.10.16)' due to a timeout waiting for the ports to get used. \n",
      "\u001b[1;31mView Jupyter <a href='command:jupyter.viewOutput'>log</a> for further details."
     ]
    }
   ],
   "source": [
    "# Distribution of rent\n",
    "plt.figure(figsize=(10, 6))\n",
    "sns.histplot(df['rent'], kde=True, color='blue')\n",
    "plt.title('Distribution of Rent')\n",
    "plt.xlabel('Rent')\n",
    "plt.ylabel('Frequency')\n",
    "plt.grid(False)\n",
    "plt.show()\n",
    "\n",
    "# Check skewness of rent\n",
    "skewness = df['rent'].skew()\n",
    "print(f\"Skewness of rent: {skewness:.2f}\")\n"
   ]
  },
  {
   "cell_type": "markdown",
   "metadata": {},
   "source": [
    "There is extremely high right-skew on the target variable, rent.\n",
    "\n",
    "This could be a that certain neighborhoods are more expensive. We will plot to investigate."
   ]
  },
  {
   "cell_type": "code",
   "execution_count": null,
   "metadata": {},
   "outputs": [
    {
     "ename": "",
     "evalue": "",
     "output_type": "error",
     "traceback": [
      "\u001b[1;31mFailed to start the Kernel. \n",
      "\u001b[1;31mUnable to start Kernel '.venv (Python 3.10.16)' due to a timeout waiting for the ports to get used. \n",
      "\u001b[1;31mView Jupyter <a href='command:jupyter.viewOutput'>log</a> for further details."
     ]
    }
   ],
   "source": [
    "# Remove neighborhoods w/ <5 occurrences as it would be hard to get a proper plot\n",
    "neighborhood_counts = df['neighborhood'].value_counts()\n",
    "\n",
    "# Filter out neighborhoods with < 5 occurrences\n",
    "valid_neighborhoods = neighborhood_counts[neighborhood_counts >= 5].index\n",
    "df_filtered = df[df['neighborhood'].isin(valid_neighborhoods)].reset_index(drop=True)\n",
    "\n",
    "print(f\"Remaining neighborhoods: {len(valid_neighborhoods)}\")"
   ]
  },
  {
   "cell_type": "code",
   "execution_count": null,
   "metadata": {},
   "outputs": [
    {
     "ename": "",
     "evalue": "",
     "output_type": "error",
     "traceback": [
      "\u001b[1;31mFailed to start the Kernel. \n",
      "\u001b[1;31mUnable to start Kernel '.venv (Python 3.10.16)' due to a timeout waiting for the ports to get used. \n",
      "\u001b[1;31mView Jupyter <a href='command:jupyter.viewOutput'>log</a> for further details."
     ]
    }
   ],
   "source": [
    "# unique neighborhoods after filtering\n",
    "neighborhoods = df_filtered['neighborhood'].unique()\n",
    "num_neighborhoods = len(neighborhoods)\n",
    "\n",
    "# Set columns and rows\n",
    "cols = 4\n",
    "rows = (num_neighborhoods // cols) + (num_neighborhoods % cols > 0)\n",
    "\n",
    "plt.figure(figsize=(20, rows * 5))\n",
    "for i, neighborhood in enumerate(neighborhoods):\n",
    "    plt.subplot(rows, cols, i+1)\n",
    "\n",
    "    rent_data = df_filtered[df_filtered['neighborhood'] == neighborhood]['rent']\n",
    "    \n",
    "    sns.histplot(rent_data, kde=True, color='blue')\n",
    "    plt.title(neighborhood)\n",
    "    plt.xlabel('Rent')\n",
    "    plt.ylabel('Frequency')\n",
    "    plt.grid(False)\n",
    "\n",
    "plt.tight_layout()\n",
    "plt.show()\n"
   ]
  },
  {
   "cell_type": "markdown",
   "metadata": {},
   "source": [
    "There seems to be right-skew among ALL neighborhoods, we will add a new column, rent_logged, to be tested against y in data processing."
   ]
  },
  {
   "cell_type": "markdown",
   "metadata": {},
   "source": [
    "# Feature Engineering"
   ]
  },
  {
   "cell_type": "markdown",
   "metadata": {},
   "source": [
    "## Logging Rent"
   ]
  },
  {
   "cell_type": "code",
   "execution_count": null,
   "metadata": {},
   "outputs": [
    {
     "ename": "",
     "evalue": "",
     "output_type": "error",
     "traceback": [
      "\u001b[1;31mFailed to start the Kernel. \n",
      "\u001b[1;31mUnable to start Kernel '.venv (Python 3.10.16)' due to a timeout waiting for the ports to get used. \n",
      "\u001b[1;31mView Jupyter <a href='command:jupyter.viewOutput'>log</a> for further details."
     ]
    }
   ],
   "source": [
    "df['rent_logged'] = np.log1p(df['rent'])\n",
    "\n",
    "df[['rent','rent_logged']]"
   ]
  },
  {
   "cell_type": "code",
   "execution_count": null,
   "metadata": {},
   "outputs": [
    {
     "ename": "",
     "evalue": "",
     "output_type": "error",
     "traceback": [
      "\u001b[1;31mFailed to start the Kernel. \n",
      "\u001b[1;31mUnable to start Kernel '.venv (Python 3.10.16)' due to a timeout waiting for the ports to get used. \n",
      "\u001b[1;31mView Jupyter <a href='command:jupyter.viewOutput'>log</a> for further details."
     ]
    }
   ],
   "source": [
    "# Distribution of rent\n",
    "plt.figure(figsize=(10, 6))\n",
    "sns.histplot(df['rent_logged'], kde=True, color='blue')\n",
    "plt.title('Distribution of Rent')\n",
    "plt.xlabel('Rent')\n",
    "plt.ylabel('Frequency')\n",
    "plt.grid(False)\n",
    "plt.show()\n",
    "\n",
    "# Check skewness of rent\n",
    "skewness = df['rent_logged'].skew()\n",
    "print(f\"Skewness of rent_logged: {skewness:.2f}\")\n"
   ]
  },
  {
   "cell_type": "code",
   "execution_count": null,
   "metadata": {},
   "outputs": [
    {
     "ename": "",
     "evalue": "",
     "output_type": "error",
     "traceback": [
      "\u001b[1;31mFailed to start the Kernel. \n",
      "\u001b[1;31mUnable to start Kernel '.venv (Python 3.10.16)' due to a timeout waiting for the ports to get used. \n",
      "\u001b[1;31mView Jupyter <a href='command:jupyter.viewOutput'>log</a> for further details."
     ]
    }
   ],
   "source": [
    "# Re-plot histograms of log-transformed rent by neighborhood\n",
    "neighborhoods = df['neighborhood'].unique()\n",
    "num_neighborhoods = len(neighborhoods)\n",
    "\n",
    "cols = 4\n",
    "rows = (num_neighborhoods // cols) + (num_neighborhoods % cols > 0)\n",
    "\n",
    "plt.figure(figsize=(20, rows * 5))\n",
    "for i, neighborhood in enumerate(neighborhoods):\n",
    "    plt.subplot(rows, cols, i+1)\n",
    "    \n",
    "    # Filter data for the neighborhood\n",
    "    log_rent_data = df[df['neighborhood'] == neighborhood]['rent_logged']\n",
    "    \n",
    "    # Plot histogram\n",
    "    sns.histplot(log_rent_data, kde=True, color='green')\n",
    "    plt.title(neighborhood)\n",
    "    plt.xlabel('Log(Rent)')\n",
    "    plt.ylabel('Frequency')\n",
    "    plt.grid(False)\n",
    "\n",
    "plt.tight_layout()\n",
    "plt.show()\n"
   ]
  },
  {
   "cell_type": "code",
   "execution_count": null,
   "metadata": {},
   "outputs": [
    {
     "ename": "",
     "evalue": "",
     "output_type": "error",
     "traceback": [
      "\u001b[1;31mFailed to start the Kernel. \n",
      "\u001b[1;31mUnable to start Kernel '.venv (Python 3.10.16)' due to a timeout waiting for the ports to get used. \n",
      "\u001b[1;31mView Jupyter <a href='command:jupyter.viewOutput'>log</a> for further details."
     ]
    }
   ],
   "source": [
    "def preprocess_data(df, target_var='rent'):\n",
    "    # Ensure that original data is not being manipulated inplace\n",
    "    data = df.copy()\n",
    "    data\n",
    "\n",
    "    # Drop borough and rental ID columns\n",
    "    data = data.drop(['rental_id','borough'], axis = 1)\n",
    "\n",
    "    # One hot encode\n",
    "    ## Usually drop_first would be True, but since we want to inspect and possibly group variables, we need all neighborhoods\n",
    "    data= pd.get_dummies(data, columns = ['neighborhood'], drop_first = False, dtype=int, prefix = None)\n",
    "    \n",
    "    # Save processed data\n",
    "    file_path = os.path.join(dir_path, \"processed_data.csv\")\n",
    "    data.to_csv(file_path)\n",
    "\n",
    "    # Split data into X, y\n",
    "    X = data.drop(['rent','rent_logged'], axis = 1).copy()\n",
    "    y = data[target_var]\n",
    "\n",
    "    # Identify numeric & categorical columns based on 'building_age_yrs' position\n",
    "    split_index = X.columns.get_loc('building_age_yrs') + 1 \n",
    "    numeric_cols = X.columns[:split_index] \n",
    "    categorical_cols = X.columns[split_index:]\n",
    "\n",
    "\n",
    "    # Apply StandardScaler only to numeric columns (not categorical numeric ones)\n",
    "    X_scaler = StandardScaler()\n",
    "    X[numeric_cols] = X_scaler.fit_transform(X[numeric_cols])\n",
    "\n",
    "    return X, y"
   ]
  },
  {
   "cell_type": "code",
   "execution_count": null,
   "metadata": {},
   "outputs": [
    {
     "ename": "",
     "evalue": "",
     "output_type": "error",
     "traceback": [
      "\u001b[1;31mFailed to start the Kernel. \n",
      "\u001b[1;31mUnable to start Kernel '.venv (Python 3.10.16)' due to a timeout waiting for the ports to get used. \n",
      "\u001b[1;31mView Jupyter <a href='command:jupyter.viewOutput'>log</a> for further details."
     ]
    }
   ],
   "source": [
    "X, y = preprocess_data(df, 'rent_logged')\n",
    "X_numerical = X.loc[:, ~X.columns.str.contains('neighborhood')]"
   ]
  },
  {
   "cell_type": "code",
   "execution_count": null,
   "metadata": {},
   "outputs": [
    {
     "ename": "",
     "evalue": "",
     "output_type": "error",
     "traceback": [
      "\u001b[1;31mFailed to start the Kernel. \n",
      "\u001b[1;31mUnable to start Kernel '.venv (Python 3.10.16)' due to a timeout waiting for the ports to get used. \n",
      "\u001b[1;31mView Jupyter <a href='command:jupyter.viewOutput'>log</a> for further details."
     ]
    }
   ],
   "source": [
    "X"
   ]
  },
  {
   "cell_type": "markdown",
   "metadata": {},
   "source": [
    "## Variance Inflation Factor"
   ]
  },
  {
   "cell_type": "code",
   "execution_count": null,
   "metadata": {},
   "outputs": [
    {
     "ename": "",
     "evalue": "",
     "output_type": "error",
     "traceback": [
      "\u001b[1;31mFailed to start the Kernel. \n",
      "\u001b[1;31mUnable to start Kernel '.venv (Python 3.10.16)' due to a timeout waiting for the ports to get used. \n",
      "\u001b[1;31mView Jupyter <a href='command:jupyter.viewOutput'>log</a> for further details."
     ]
    }
   ],
   "source": [
    "# VARIANCE INFLATION FACTOR\n",
    "\n",
    "# Calculate VIF for each feature\n",
    "vif_data = pd.DataFrame()\n",
    "vif_data[\"Feature\"] = X_numerical.columns\n",
    "vif_data[\"VIF\"] = [variance_inflation_factor(X_numerical.values, i) for i in range(X_numerical.shape[1])]\n",
    "\n",
    "# Display VIF\n",
    "print(vif_data)"
   ]
  },
  {
   "cell_type": "markdown",
   "metadata": {},
   "source": [
    "## Variable Influence on Price\n",
    "Excluding CatVar (Neighborhood)"
   ]
  },
  {
   "cell_type": "markdown",
   "metadata": {},
   "source": [
    "Using linear models with and without neighborhood, we can look at how much each neighborhood affects pricing, and thus decide how to utilise the variable."
   ]
  },
  {
   "cell_type": "code",
   "execution_count": null,
   "metadata": {},
   "outputs": [
    {
     "ename": "",
     "evalue": "",
     "output_type": "error",
     "traceback": [
      "\u001b[1;31mFailed to start the Kernel. \n",
      "\u001b[1;31mUnable to start Kernel '.venv (Python 3.10.16)' due to a timeout waiting for the ports to get used. \n",
      "\u001b[1;31mView Jupyter <a href='command:jupyter.viewOutput'>log</a> for further details."
     ]
    }
   ],
   "source": [
    "def get_linear_coeffs(X, y):\n",
    "    \"\"\"Reusable function to get \"\"\"\n",
    "    # Fit linear regression model\n",
    "    linear_model = LinearRegression()\n",
    "    linear_model.fit(X, y)\n",
    "\n",
    "    # Get coefficients\n",
    "    coefficients = linear_model.coef_\n",
    "\n",
    "    # Sort by actual coefficient values (not absolute)\n",
    "    neighborhood_coeff_df = pd.DataFrame({\n",
    "        'Feature': X.columns,\n",
    "        'Coefficient': coefficients\n",
    "    })\n",
    "\n",
    "    return neighborhood_coeff_df"
   ]
  },
  {
   "cell_type": "code",
   "execution_count": null,
   "metadata": {},
   "outputs": [
    {
     "ename": "",
     "evalue": "",
     "output_type": "error",
     "traceback": [
      "\u001b[1;31mFailed to start the Kernel. \n",
      "\u001b[1;31mUnable to start Kernel '.venv (Python 3.10.16)' due to a timeout waiting for the ports to get used. \n",
      "\u001b[1;31mView Jupyter <a href='command:jupyter.viewOutput'>log</a> for further details."
     ]
    }
   ],
   "source": [
    "numerical_coeff_df = get_linear_coeffs(X_numerical, y)\n",
    "numerical_coeff_df = numerical_coeff_df.sort_values(by='Coefficient', ascending=False)\n",
    "\n",
    "\n",
    "# Plot\n",
    "plt.figure(figsize=(10, 8))\n",
    "sns.barplot(x='Coefficient', y='Feature', data=numerical_coeff_df, palette='Spectral')\n",
    "plt.suptitle('Standardized Coefficients for House Price Prediction')\n",
    "plt.title('(Not including neighborhoods)')\n",
    "plt.xlabel('Change in Standardized SalePrice')\n",
    "plt.ylabel('Feature')\n",
    "plt.grid(True, linestyle='--', alpha=0.5)\n",
    "plt.show()"
   ]
  },
  {
   "cell_type": "markdown",
   "metadata": {},
   "source": [
    "## Neighborhood Influence on Price"
   ]
  },
  {
   "cell_type": "code",
   "execution_count": null,
   "metadata": {},
   "outputs": [
    {
     "ename": "",
     "evalue": "",
     "output_type": "error",
     "traceback": [
      "\u001b[1;31mFailed to start the Kernel. \n",
      "\u001b[1;31mUnable to start Kernel '.venv (Python 3.10.16)' due to a timeout waiting for the ports to get used. \n",
      "\u001b[1;31mView Jupyter <a href='command:jupyter.viewOutput'>log</a> for further details."
     ]
    }
   ],
   "source": [
    "# Sort by actual coefficient values (not absolute)\n",
    "neighborhood_coeff_df = get_linear_coeffs(X, y)"
   ]
  },
  {
   "cell_type": "markdown",
   "metadata": {},
   "source": [
    "##### Visualization 1: Neighborhood Influences summed\n",
    "(net neighborhood influence across all)"
   ]
  },
  {
   "cell_type": "code",
   "execution_count": null,
   "metadata": {},
   "outputs": [
    {
     "ename": "",
     "evalue": "",
     "output_type": "error",
     "traceback": [
      "\u001b[1;31mFailed to start the Kernel. \n",
      "\u001b[1;31mUnable to start Kernel '.venv (Python 3.10.16)' due to a timeout waiting for the ports to get used. \n",
      "\u001b[1;31mView Jupyter <a href='command:jupyter.viewOutput'>log</a> for further details."
     ]
    }
   ],
   "source": [
    "def plot_summed_effects(coeff_df):\n",
    "    # Calculate the total neighborhood effect by summing all neighborhood coefficients\n",
    "    neigh_summed_coeffs = neighborhood_coeff_df[neighborhood_coeff_df['Feature'].str.contains('neighborhood')]\n",
    "    summed_neighborhood_effect = neigh_summed_coeffs['Coefficient'].sum()\n",
    "\n",
    "    # Remove neighborhood variables from the main DataFrame\n",
    "    aggregate_df = neighborhood_coeff_df[~neighborhood_coeff_df['Feature'].str.contains('neighborhood')]\n",
    "\n",
    "    # Create a new DataFrame for the aggregated neighborhood effect\n",
    "    neighborhood_aggregate = pd.DataFrame({\n",
    "        'Feature': ['Neighborhood (Aggregate)'],\n",
    "        'Coefficient': [summed_neighborhood_effect]\n",
    "    })\n",
    "\n",
    "    # Combine the aggregated effect with the non-neighborhood features using pd.concat()\n",
    "    aggregate_df = pd.concat([aggregate_df, neighborhood_aggregate], ignore_index=True)\n",
    "\n",
    "    # Plot the aggregated effect along with other features\n",
    "    plt.figure(figsize=(10, 8))\n",
    "    sns.barplot(x='Coefficient', y='Feature', data=aggregate_df.sort_values(by='Coefficient'), palette='Spectral')\n",
    "    plt.title('Standardized Coefficients for House Price Prediction\\n(Including Neighborhood Aggregate)')\n",
    "    plt.xlabel('Change in Standardized SalePrice')\n",
    "    plt.ylabel('Feature')\n",
    "    plt.grid(True, linestyle='--', alpha=0.5)\n",
    "    plt.show()\n",
    "\n",
    "    return None\n",
    "\n",
    "plot_summed_effects(coeff_df= neighborhood_coeff_df)"
   ]
  },
  {
   "cell_type": "markdown",
   "metadata": {},
   "source": [
    "##### Visualization 2: Inspecting ONLY neighborhood influences on price"
   ]
  },
  {
   "cell_type": "code",
   "execution_count": null,
   "metadata": {},
   "outputs": [
    {
     "ename": "",
     "evalue": "",
     "output_type": "error",
     "traceback": [
      "\u001b[1;31mFailed to start the Kernel. \n",
      "\u001b[1;31mUnable to start Kernel '.venv (Python 3.10.16)' due to a timeout waiting for the ports to get used. \n",
      "\u001b[1;31mView Jupyter <a href='command:jupyter.viewOutput'>log</a> for further details."
     ]
    }
   ],
   "source": [
    "# Select all neighborhood variables\n",
    "per_neighborhood_coeffs = neighborhood_coeff_df[neighborhood_coeff_df['Feature'].str.contains('neighborhood')]\n",
    "\n",
    "# Plot the aggregated effect along with other features\n",
    "plt.figure(figsize=(10, 8))\n",
    "sns.barplot(x='Coefficient', y='Feature', data=per_neighborhood_coeffs.sort_values(by='Coefficient'), palette='Spectral')\n",
    "plt.title('Standardized Coefficients for House Price Prediction\\n(Only looking at neighborhood)')\n",
    "plt.xlabel('Change in Standardized SalePrice')\n",
    "plt.ylabel('Feature')\n",
    "plt.grid(True, linestyle='--', alpha=0.5)\n",
    "plt.show()\n"
   ]
  },
  {
   "cell_type": "markdown",
   "metadata": {},
   "source": [
    "### Counts"
   ]
  },
  {
   "cell_type": "code",
   "execution_count": null,
   "metadata": {},
   "outputs": [
    {
     "ename": "",
     "evalue": "",
     "output_type": "error",
     "traceback": [
      "\u001b[1;31mFailed to start the Kernel. \n",
      "\u001b[1;31mUnable to start Kernel '.venv (Python 3.10.16)' due to a timeout waiting for the ports to get used. \n",
      "\u001b[1;31mView Jupyter <a href='command:jupyter.viewOutput'>log</a> for further details."
     ]
    }
   ],
   "source": [
    "# NEIGHBORHOOD COUNTS\n",
    "df['neighborhood'].value_counts()"
   ]
  },
  {
   "cell_type": "markdown",
   "metadata": {},
   "source": [
    "### Lists"
   ]
  },
  {
   "cell_type": "code",
   "execution_count": null,
   "metadata": {},
   "outputs": [
    {
     "ename": "",
     "evalue": "",
     "output_type": "error",
     "traceback": [
      "\u001b[1;31mFailed to start the Kernel. \n",
      "\u001b[1;31mUnable to start Kernel '.venv (Python 3.10.16)' due to a timeout waiting for the ports to get used. \n",
      "\u001b[1;31mView Jupyter <a href='command:jupyter.viewOutput'>log</a> for further details."
     ]
    }
   ],
   "source": [
    "# NEIGHBORHOOD LIST\n",
    "## Saving this as a variable for potential future usage\n",
    "neighborhoods = df['neighborhood'].unique().tolist()\n",
    "neighborhoods"
   ]
  },
  {
   "cell_type": "markdown",
   "metadata": {},
   "source": [
    "### Mean Price per Neighborhood"
   ]
  },
  {
   "cell_type": "code",
   "execution_count": null,
   "metadata": {},
   "outputs": [
    {
     "ename": "",
     "evalue": "",
     "output_type": "error",
     "traceback": [
      "\u001b[1;31mFailed to start the Kernel. \n",
      "\u001b[1;31mUnable to start Kernel '.venv (Python 3.10.16)' due to a timeout waiting for the ports to get used. \n",
      "\u001b[1;31mView Jupyter <a href='command:jupyter.viewOutput'>log</a> for further details."
     ]
    }
   ],
   "source": [
    "# MEAN PRICE PER NEIGHBORHOOD\n",
    "df.groupby('neighborhood', as_index=False)['rent'].agg(mean_price='mean').sort_values(by = 'mean_price')"
   ]
  },
  {
   "cell_type": "markdown",
   "metadata": {},
   "source": [
    "However these values are encompassing all types (studio, 1br, 2br), so we will do a per-bedroom price. While other factor will still influence the mean price, this would allow for a lot more clarity."
   ]
  },
  {
   "cell_type": "markdown",
   "metadata": {},
   "source": [
    "#### Mean Price per Bedroom"
   ]
  },
  {
   "cell_type": "code",
   "execution_count": null,
   "metadata": {},
   "outputs": [
    {
     "ename": "",
     "evalue": "",
     "output_type": "error",
     "traceback": [
      "\u001b[1;31mFailed to start the Kernel. \n",
      "\u001b[1;31mUnable to start Kernel '.venv (Python 3.10.16)' due to a timeout waiting for the ports to get used. \n",
      "\u001b[1;31mView Jupyter <a href='command:jupyter.viewOutput'>log</a> for further details."
     ]
    }
   ],
   "source": [
    "# MEAN PRICE PER NEIGHBORHOOD (PER BEDROOM)\n",
    "df_temp = df.copy()\n",
    "df_temp['rent_per_bedroom'] = df_temp.apply(lambda row: row['rent'] / row['bedrooms'] if row['bedrooms'] > 1 else row['rent'], axis=1)\n",
    "neighborhood_means = df_temp.groupby('neighborhood', as_index=False)['rent_per_bedroom'].agg(mean_price='mean').sort_values(by = 'mean_price')\n",
    "neighborhood_means"
   ]
  },
  {
   "cell_type": "code",
   "execution_count": null,
   "metadata": {},
   "outputs": [
    {
     "ename": "",
     "evalue": "",
     "output_type": "error",
     "traceback": [
      "\u001b[1;31mFailed to start the Kernel. \n",
      "\u001b[1;31mUnable to start Kernel '.venv (Python 3.10.16)' due to a timeout waiting for the ports to get used. \n",
      "\u001b[1;31mView Jupyter <a href='command:jupyter.viewOutput'>log</a> for further details."
     ]
    }
   ],
   "source": [
    "plt.figure(figsize=(16,6)) \n",
    "sns.barplot(\n",
    "    x='neighborhood', \n",
    "    y='mean_price', \n",
    "    data=neighborhood_means, \n",
    "    palette='PiYG'\n",
    ")\n",
    "plt.suptitle(\"Mean Rent Price per Neighborhood\")\n",
    "plt.title(\"(Per bedroom)\")\n",
    "plt.ylabel(\"Mean Rent Price ($)\")\n",
    "plt.xlabel(\"Neighborhood\")\n",
    "plt.xticks(rotation = 60, ha='right',fontsize=10)\n",
    "plt.show()"
   ]
  },
  {
   "cell_type": "markdown",
   "metadata": {},
   "source": [
    "Neighborhood Frequency"
   ]
  },
  {
   "cell_type": "code",
   "execution_count": null,
   "metadata": {},
   "outputs": [
    {
     "ename": "",
     "evalue": "",
     "output_type": "error",
     "traceback": [
      "\u001b[1;31mFailed to start the Kernel. \n",
      "\u001b[1;31mUnable to start Kernel '.venv (Python 3.10.16)' due to a timeout waiting for the ports to get used. \n",
      "\u001b[1;31mView Jupyter <a href='command:jupyter.viewOutput'>log</a> for further details."
     ]
    }
   ],
   "source": [
    "bins = np.arange(0,650,25)\n",
    "plt.figure(figsize=(15,8))\n",
    "plt.hist(df['neighborhood'].value_counts(), bins = bins)\n",
    "plt.title(\"Distribution of neighborhood counts\")\n",
    "plt.ylabel(\"Count\")\n",
    "plt.xticks(bins, rotation =45)\n",
    "plt.xlabel(\"Frequency\")\n",
    "plt.show()"
   ]
  },
  {
   "cell_type": "markdown",
   "metadata": {},
   "source": [
    "We'll zoom into the (0,100) range of the graph, as many of the data points seem to lie ther"
   ]
  },
  {
   "cell_type": "code",
   "execution_count": null,
   "metadata": {},
   "outputs": [
    {
     "ename": "",
     "evalue": "",
     "output_type": "error",
     "traceback": [
      "\u001b[1;31mFailed to start the Kernel. \n",
      "\u001b[1;31mUnable to start Kernel '.venv (Python 3.10.16)' due to a timeout waiting for the ports to get used. \n",
      "\u001b[1;31mView Jupyter <a href='command:jupyter.viewOutput'>log</a> for further details."
     ]
    }
   ],
   "source": [
    "bins = np.arange(0,100,5)\n",
    "plt.figure(figsize=(15,8))\n",
    "plt.hist(df['neighborhood'].value_counts(), bins = bins)\n",
    "plt.title(\"Distribution of neighborhood counts\")\n",
    "plt.ylabel(\"Count\")\n",
    "plt.xticks(bins, rotation =45)\n",
    "plt.xlabel(\"Frequency\")\n",
    "plt.show()"
   ]
  },
  {
   "cell_type": "markdown",
   "metadata": {},
   "source": [
    "### Investigating Dropping Neighborhoods"
   ]
  },
  {
   "cell_type": "markdown",
   "metadata": {},
   "source": [
    "To investigate how dropping low freq. neighborhoods affects modelling, we'll iterate over a thresholds list, model after dropping neighborhoods under the thresh., and compare"
   ]
  },
  {
   "cell_type": "code",
   "execution_count": null,
   "metadata": {},
   "outputs": [
    {
     "ename": "",
     "evalue": "",
     "output_type": "error",
     "traceback": [
      "\u001b[1;31mFailed to start the Kernel. \n",
      "\u001b[1;31mUnable to start Kernel '.venv (Python 3.10.16)' due to a timeout waiting for the ports to get used. \n",
      "\u001b[1;31mView Jupyter <a href='command:jupyter.viewOutput'>log</a> for further details."
     ]
    }
   ],
   "source": [
    "thresholds = np.arange(1,20,1).tolist()\n",
    "\n",
    "# Untuned parameters for baseline analysis\n",
    "baseline_params = {\n",
    "    'objective': 'reg:squarederror',\n",
    "    'learning_rate': 0.0015,\n",
    "    'max_depth': 3,\n",
    "    'lambda': 0.001,\n",
    "    'alpha': 0.1,\n",
    "    'subsample': 0.8,\n",
    "    'colsample_bytree': 0.8,\n",
    "    'min_child_weight': 1,\n",
    "    'eval_metric': 'rmse',\n",
    "    'seed': 42\n",
    "}\n",
    "# Store results in a DataFrame\n",
    "results = pd.DataFrame(columns=['Threshold','Final_RMSE','MAPE','Rows_Removed', 'Percent_Removed'])\n",
    "\n",
    "print(\"Total rows in original dataset:\", len(df), \"\\n\")\n",
    "\n",
    "\n",
    "# Loop over each threshold\n",
    "for thresh in thresholds:\n",
    "    print(f\"Testing threshold {thresh}\")\n",
    "\n",
    "    # Copy the original DataFrame as to not affect original data\n",
    "    df_temp = df.copy()\n",
    "    \n",
    "    # Total rows before any removal\n",
    "    total_rows = len(df_temp)\n",
    "\n",
    "    # Identify neighborhoods to drop\n",
    "    neighborhood_counts = df_temp['neighborhood'].value_counts()\n",
    "    to_drop = neighborhood_counts[neighborhood_counts < thresh].index\n",
    "    \n",
    "    # Count how many rows would be removed\n",
    "    rows_removed = df_temp[df_temp['neighborhood'].isin(to_drop)].shape[0]\n",
    "    pct_removed = (rows_removed / total_rows) * 100\n",
    "\n",
    "    # Drop neighborhoods below the threshold\n",
    "    df_temp = df_temp[~df_temp['neighborhood'].isin(to_drop)].reset_index(drop=True)\n",
    "    \n",
    "    # Preprocess data\n",
    "    X, y_logged = preprocess_data(df_temp, target_var='rent_logged')\n",
    "\n",
    "    # Split data into Train and Validation sets\n",
    "    X_train, X_val, y_train_logged, y_val_logged = train_test_split(X, y_logged, test_size=0.2, random_state=42)\n",
    "\n",
    "    dtrain_logged = xgb.DMatrix(X_train, label=y_train_logged)\n",
    "    dval_logged = xgb.DMatrix(X_val, label=y_val_logged)\n",
    "\n",
    "    # Retrain the model using the best boosting rounds on Train set\n",
    "    model = xgb.train(baseline_params, dtrain_logged, num_boost_round=10000, \n",
    "                    evals=[(dval_logged, 'eval')],\n",
    "                    early_stopping_rounds=50, \n",
    "                    verbose_eval=False)\n",
    "\n",
    "    # Get predictions on Validation set\n",
    "    y_pred_logged = model.predict(dval_logged)\n",
    "\n",
    "    # Go back to original scale\n",
    "    y_pred = np.expm1(y_pred_logged)\n",
    "    y_val = np.expm1(y_val_logged)\n",
    "\n",
    "    # Recalculate RMSE on original scale for reporting\n",
    "    final_rmse = np.sqrt(mean_squared_error(y_val, y_pred))\n",
    "\n",
    "    # Calculate MAPE manually\n",
    "    mape = mean_absolute_percentage_error(y_val, y_pred)\n",
    "\n",
    "    # Store both CV RMSE and Final RMSE\n",
    "    results = pd.concat([results, pd.DataFrame({\n",
    "        'Threshold': [thresh],\n",
    "        'Final_RMSE': [final_rmse],\n",
    "        'MAPE': [mape],\n",
    "        'Rows_Removed':[rows_removed],\n",
    "        'Percent_Removed':[pct_removed]\n",
    "    })], ignore_index=True)\n",
    "\n",
    "    print(f\"Threshold: {thresh}, Final RMSE: {final_rmse:.2f}, MAPE: {mape:.2%}, Percent Removed: {pct_removed:.2f}%\")\n",
    "\n",
    "print(results)\n",
    "\n",
    "# plot results\n",
    "plt.plot(results['Threshold'], results['Final_RMSE'])\n",
    "plt.xticks(thresholds)\n",
    "plt.xlabel('Threshold')\n",
    "plt.ylabel('RMSE')\n",
    "plt.show()\n"
   ]
  },
  {
   "cell_type": "markdown",
   "metadata": {},
   "source": [
    "We see the biggest decrease in RMSE with dropping neighborhoods that occur <13 times, while only losing 1.3% of the data. So we will create a new dataframe dropping those neighborhoods."
   ]
  },
  {
   "cell_type": "code",
   "execution_count": null,
   "metadata": {},
   "outputs": [
    {
     "ename": "",
     "evalue": "",
     "output_type": "error",
     "traceback": [
      "\u001b[1;31mFailed to start the Kernel. \n",
      "\u001b[1;31mUnable to start Kernel '.venv (Python 3.10.16)' due to a timeout waiting for the ports to get used. \n",
      "\u001b[1;31mView Jupyter <a href='command:jupyter.viewOutput'>log</a> for further details."
     ]
    }
   ],
   "source": [
    "df_dropped = df.copy()\n",
    "\n",
    "neighborhood_counts = df_dropped['neighborhood'].value_counts()\n",
    "to_drop = neighborhood_counts[neighborhood_counts < 13].index\n",
    "\n",
    "# Drop neighborhoods below the threshold\n",
    "df_dropped = df_dropped[~df_dropped['neighborhood'].isin(to_drop)].reset_index(drop=True)\n",
    "\n",
    "df_dropped['neighborhood'].value_counts()"
   ]
  },
  {
   "cell_type": "markdown",
   "metadata": {},
   "source": [
    "## Interaction Terms"
   ]
  },
  {
   "cell_type": "markdown",
   "metadata": {},
   "source": [
    "### Correlation Heatmap"
   ]
  },
  {
   "cell_type": "code",
   "execution_count": null,
   "metadata": {},
   "outputs": [
    {
     "ename": "",
     "evalue": "",
     "output_type": "error",
     "traceback": [
      "\u001b[1;31mFailed to start the Kernel. \n",
      "\u001b[1;31mUnable to start Kernel '.venv (Python 3.10.16)' due to a timeout waiting for the ports to get used. \n",
      "\u001b[1;31mView Jupyter <a href='command:jupyter.viewOutput'>log</a> for further details."
     ]
    }
   ],
   "source": [
    "# CORRELATION HEATMAP\n",
    "plt.figure(figsize=(12, 8))\n",
    "sns.heatmap(X_numerical.corr(), annot=True, cmap='coolwarm', fmt='.2f')\n",
    "plt.title('Correlation Heatmap of Features')\n",
    "plt.show()"
   ]
  },
  {
   "cell_type": "code",
   "execution_count": null,
   "metadata": {},
   "outputs": [
    {
     "ename": "",
     "evalue": "",
     "output_type": "error",
     "traceback": [
      "\u001b[1;31mFailed to start the Kernel. \n",
      "\u001b[1;31mUnable to start Kernel '.venv (Python 3.10.16)' due to a timeout waiting for the ports to get used. \n",
      "\u001b[1;31mView Jupyter <a href='command:jupyter.viewOutput'>log</a> for further details."
     ]
    }
   ],
   "source": [
    "def get_high_corr(df=df):\n",
    "    high_correlations = []\n",
    "    for index, row in df.iterrows():\n",
    "        for col in df.columns:\n",
    "            corr = df.iloc[row, col]\n",
    "\n",
    "            if corr >0.7:\n",
    "                high_correlations.append([index, col])\n",
    "\n",
    "    \n",
    "    return high_correlations\n",
    "\n",
    "get_high_corr(df=df_dropped)"
   ]
  },
  {
   "cell_type": "markdown",
   "metadata": {},
   "source": [
    "## Polynomial Transformations"
   ]
  },
  {
   "cell_type": "markdown",
   "metadata": {},
   "source": [
    "# Model Selection"
   ]
  },
  {
   "cell_type": "markdown",
   "metadata": {},
   "source": [
    "Choosing a model from the following:\n",
    "- Linear Regression\n",
    "- XGBoost\n",
    "- Decision Tree\n",
    "- Random Forest\n",
    "\n",
    "while also comparing Rent vs. Rent logged\n"
   ]
  },
  {
   "cell_type": "code",
   "execution_count": null,
   "metadata": {},
   "outputs": [
    {
     "ename": "",
     "evalue": "",
     "output_type": "error",
     "traceback": [
      "\u001b[1;31mFailed to start the Kernel. \n",
      "\u001b[1;31mUnable to start Kernel '.venv (Python 3.10.16)' due to a timeout waiting for the ports to get used. \n",
      "\u001b[1;31mView Jupyter <a href='command:jupyter.viewOutput'>log</a> for further details."
     ]
    }
   ],
   "source": [
    "def model_selection(df = df, target_var = 'rent'):\n",
    "    X, y = preprocess_data(df, target_var=target_var)\n",
    "    X_train, X_test, y_train, y_test = train_test_split(X, y, test_size=0.2, random_state=42)\n",
    "    \n",
    "    # Baseline models (no tuning)\n",
    "    models = {\n",
    "        'Linear Regression': LinearRegression(),\n",
    "        'Decision Tree': DecisionTreeRegressor(random_state=42),\n",
    "        'Random Forest': RandomForestRegressor(random_state=42),\n",
    "        'XGBoost': XGBRegressor(objective='reg:squarederror', random_state=42)\n",
    "    }\n",
    "\n",
    "    results = []\n",
    "\n",
    "    for name, model in models.items():\n",
    "        model.fit(X_train, y_train)                              # Train the model\n",
    "        y_pred = model.predict(X_test)                           # Generate predictions\n",
    "        # Calculate scores depending on logged\n",
    "        if target_var == 'rent_logged':\n",
    "            y_pred_original = np.expm1(y_pred)\n",
    "            y_test_original = np.expm1(y_test)\n",
    "            rmse = np.sqrt(mean_squared_error(y_test_original, y_pred_original))\n",
    "            mape = mean_absolute_percentage_error(y_test_original, y_pred_original)\n",
    "        else: \n",
    "            rmse = np.sqrt(mean_squared_error(y_test, y_pred))       # Calculate RMSE\n",
    "            mape = mean_absolute_percentage_error(y_test, y_pred)    # Calculate MAPE\n",
    "        \n",
    "        results.append({'Model': name, 'RMSE': rmse, 'MAPE (%)': mape*100})\n",
    "\n",
    "    # Convert results to a DataFrame for easy comparison\n",
    "    results_df = pd.DataFrame(results)\n",
    "    print(f\"Target Value: {target_var}\\n\",results_df)\n",
    "    \n",
    "    return None"
   ]
  },
  {
   "cell_type": "code",
   "execution_count": null,
   "metadata": {},
   "outputs": [
    {
     "ename": "",
     "evalue": "",
     "output_type": "error",
     "traceback": [
      "\u001b[1;31mFailed to start the Kernel. \n",
      "\u001b[1;31mUnable to start Kernel '.venv (Python 3.10.16)' due to a timeout waiting for the ports to get used. \n",
      "\u001b[1;31mView Jupyter <a href='command:jupyter.viewOutput'>log</a> for further details."
     ]
    }
   ],
   "source": [
    "## RENT\n",
    "model_selection(df_dropped, 'rent')\n",
    "print(\"\\n\\n\")\n",
    "## RENT LOGGED\n",
    "model_selection(df_dropped, 'rent_logged')"
   ]
  },
  {
   "cell_type": "markdown",
   "metadata": {},
   "source": [
    "# Hyperparameter Tuning"
   ]
  },
  {
   "cell_type": "code",
   "execution_count": null,
   "metadata": {},
   "outputs": [
    {
     "ename": "",
     "evalue": "",
     "output_type": "error",
     "traceback": [
      "\u001b[1;31mFailed to start the Kernel. \n",
      "\u001b[1;31mUnable to start Kernel '.venv (Python 3.10.16)' due to a timeout waiting for the ports to get used. \n",
      "\u001b[1;31mView Jupyter <a href='command:jupyter.viewOutput'>log</a> for further details."
     ]
    }
   ],
   "source": [
    "# Convert data to DMatrices for optimal XGB use\n",
    "X, y_logged = preprocess_data(df_dropped, target_var='rent_logged')\n",
    "X_train, X_test, y_train_logged, y_test_logged = train_test_split(X, y_logged, train_size=0.2, random_state=42)\n",
    "\n",
    "dtrain = xgb.DMatrix(X_train, label = y_train_logged)\n",
    "dtest = xgb.DMatrix(X_test, label = y_test_logged)"
   ]
  },
  {
   "cell_type": "code",
   "execution_count": null,
   "metadata": {},
   "outputs": [
    {
     "ename": "",
     "evalue": "",
     "output_type": "error",
     "traceback": [
      "\u001b[1;31mFailed to start the Kernel. \n",
      "\u001b[1;31mUnable to start Kernel '.venv (Python 3.10.16)' due to a timeout waiting for the ports to get used. \n",
      "\u001b[1;31mView Jupyter <a href='command:jupyter.viewOutput'>log</a> for further details."
     ]
    }
   ],
   "source": [
    "# Expanded Parameter Grid\n",
    "param_grid = {\n",
    "    'learning_rate': [0.001, 0.005],  \n",
    "    'max_depth': [3, 5, 7],  \n",
    "    'lambda': [0.001, 1, 10],  \n",
    "    'alpha': [0, 0.1, 1],  \n",
    "    'subsample': [0.6,1.0],  \n",
    "    'colsample_bytree': [0.8, 1.0],  \n",
    "    'min_child_weight': [1, 3]\n",
    "}\n",
    "\n",
    "# Track best parameters and RMSE\n",
    "best_rmse = float(\"inf\")\n",
    "best_params = None\n",
    "best_iteration = None\n",
    "\n",
    "# Iterate through all parameter combinations\n",
    "for learning_rate, max_depth, reg_lambda, alpha, subsample, colsample_bytree, min_child_weight in product(\n",
    "    param_grid['learning_rate'], \n",
    "    param_grid['max_depth'], \n",
    "    param_grid['lambda'],\n",
    "    param_grid['alpha'],\n",
    "    param_grid['subsample'],\n",
    "    param_grid['colsample_bytree'],\n",
    "    param_grid['min_child_weight']\n",
    "):\n",
    "    print(f\"Params: learning_rate={learning_rate}, max_depth={max_depth}, lambda={reg_lambda}, alpha={alpha}, subsample={subsample}, colsample_bytree={colsample_bytree}, min_child_weight={min_child_weight}\")\n",
    "\n",
    "    # Define parameters for this combination\n",
    "    params = {\n",
    "        'objective': 'reg:squarederror',\n",
    "        'learning_rate': learning_rate,\n",
    "        'max_depth': max_depth,\n",
    "        'lambda': reg_lambda,\n",
    "        'alpha': alpha,\n",
    "        'subsample': subsample,\n",
    "        'colsample_bytree': colsample_bytree,\n",
    "        'min_child_weight': min_child_weight,\n",
    "        'eval_metric': 'rmse',\n",
    "        'tree_method': 'hist' \n",
    "    }\n",
    "\n",
    "    # Perform cross-validation\n",
    "    cv_results = xgb.cv(params, dtrain, num_boost_round=15000, nfold=4, \n",
    "                        metrics='rmse', early_stopping_rounds=15, seed=42)\n",
    "\n",
    "    # Get best RMSE from CV\n",
    "    best_rmse_logged = cv_results['test-rmse-mean'].min()\n",
    "    this_iteration = cv_results['test-rmse-mean'].idxmin()\n",
    "\n",
    "    # Retrain the model using the best parameters and iteration\n",
    "    model = xgb.train(params, dtrain, num_boost_round=this_iteration)\n",
    "\n",
    "    # Get predictions on validation set\n",
    "    y_pred_logged = model.predict(dtest)\n",
    "    \n",
    "    # Reverse log transformation\n",
    "    y_pred = np.expm1(y_pred_logged)\n",
    "    y_test = np.expm1(y_test_logged)\n",
    "    \n",
    "    # Calculate RMSE on original scale\n",
    "    rmse_original = np.sqrt(mean_squared_error(y_test, y_pred))\n",
    "    \n",
    "    # Print progress for each combination\n",
    "    print(f\"  ↳ Best iteration: {best_iteration}, RMSE (logged): {best_rmse_logged:.4f}, RMSE (original scale): {rmse_original:.2f}\\n\")\n",
    "\n",
    "\n",
    "    # Update best parameters if lower RMSE found\n",
    "    if rmse_original < best_rmse:\n",
    "        best_rmse = rmse_original\n",
    "        best_params = params\n",
    "        best_iteration = this_iteration\n",
    "\n",
    "# Display best results\n",
    "print(\"Best parameters found:\", best_params)\n",
    "print(f\"Optimal num_boost_round: {best_iteration}\")\n",
    "print(f\"Best RMSE: {best_rmse:.4f}\")\n"
   ]
  },
  {
   "cell_type": "markdown",
   "metadata": {},
   "source": [
    "# Model Training"
   ]
  },
  {
   "cell_type": "code",
   "execution_count": null,
   "metadata": {},
   "outputs": [
    {
     "ename": "",
     "evalue": "",
     "output_type": "error",
     "traceback": [
      "\u001b[1;31mFailed to start the Kernel. \n",
      "\u001b[1;31mUnable to start Kernel '.venv (Python 3.10.16)' due to a timeout waiting for the ports to get used. \n",
      "\u001b[1;31mView Jupyter <a href='command:jupyter.viewOutput'>log</a> for further details."
     ]
    }
   ],
   "source": [
    "X_train, X_test, y_train_logged, y_test_logged = train_test_split(X, y_logged, train_size=0.2, random_state=42)\n",
    "\n",
    "dtrain = xgb.DMatrix(X_train, label = y_train_logged)\n",
    "dtest = xgb.DMatrix(X_test, label = y_test_logged)"
   ]
  },
  {
   "cell_type": "code",
   "execution_count": null,
   "metadata": {},
   "outputs": [
    {
     "ename": "",
     "evalue": "",
     "output_type": "error",
     "traceback": [
      "\u001b[1;31mFailed to start the Kernel. \n",
      "\u001b[1;31mUnable to start Kernel '.venv (Python 3.10.16)' due to a timeout waiting for the ports to get used. \n",
      "\u001b[1;31mView Jupyter <a href='command:jupyter.viewOutput'>log</a> for further details."
     ]
    }
   ],
   "source": [
    "# Use the best parameters found from tuning\n",
    "params = best_params\n",
    "print(\"params:\", params)\n",
    "\n",
    "# Train final model using the optimal num_boost_round\n",
    "final_model = xgb.train(params, dtrain, num_boost_round=best_iteration)"
   ]
  },
  {
   "cell_type": "code",
   "execution_count": null,
   "metadata": {},
   "outputs": [
    {
     "ename": "",
     "evalue": "",
     "output_type": "error",
     "traceback": [
      "\u001b[1;31mFailed to start the Kernel. \n",
      "\u001b[1;31mUnable to start Kernel '.venv (Python 3.10.16)' due to a timeout waiting for the ports to get used. \n",
      "\u001b[1;31mView Jupyter <a href='command:jupyter.viewOutput'>log</a> for further details."
     ]
    }
   ],
   "source": [
    "# Make predictions on test set\n",
    "y_pred_logged = final_model.predict(dtest)\n",
    "\n",
    "y_pred = np.expm1(y_pred_logged)\n",
    "y_test = np.expm1(y_test_logged)\n",
    "\n",
    "# Calculate RMSE\n",
    "rmse_logged = np.sqrt(mean_squared_error(y_test_logged, y_pred_logged))\n",
    "print(f\"Test RMSE (logged ): {rmse_logged:.2f}\")\n",
    "\n",
    "rmse = np.sqrt(mean_squared_error(y_test, y_pred))\n",
    "print(f\"Test RMSE (original scale): {rmse:.2f}\")"
   ]
  },
  {
   "cell_type": "code",
   "execution_count": null,
   "metadata": {},
   "outputs": [
    {
     "ename": "",
     "evalue": "",
     "output_type": "error",
     "traceback": [
      "\u001b[1;31mFailed to start the Kernel. \n",
      "\u001b[1;31mUnable to start Kernel '.venv (Python 3.10.16)' due to a timeout waiting for the ports to get used. \n",
      "\u001b[1;31mView Jupyter <a href='command:jupyter.viewOutput'>log</a> for further details."
     ]
    }
   ],
   "source": [
    "# Make predictions on test set\n",
    "y_pred_logged = final_model.predict(dtest)\n",
    "\n",
    "# Calculate RMSE\n",
    "rmse = np.sqrt(mean_squared_error(y_test_logged, y_pred))\n",
    "print(f\"Test RMSE (logged ): {rmse:.2f}\")\n",
    "print(f\"Test RMSE (original scale): {np.expm1(rmse):.2f}\")"
   ]
  },
  {
   "cell_type": "code",
   "execution_count": null,
   "metadata": {},
   "outputs": [
    {
     "ename": "",
     "evalue": "",
     "output_type": "error",
     "traceback": [
      "\u001b[1;31mFailed to start the Kernel. \n",
      "\u001b[1;31mUnable to start Kernel '.venv (Python 3.10.16)' due to a timeout waiting for the ports to get used. \n",
      "\u001b[1;31mView Jupyter <a href='command:jupyter.viewOutput'>log</a> for further details."
     ]
    }
   ],
   "source": [
    "print(f\"Test RMSE (logged ): {rmse:.2f}\")\n",
    "print(f\"Test RMSE (original scale): {np.expm1(rmse):.2f}\")"
   ]
  },
  {
   "cell_type": "markdown",
   "metadata": {},
   "source": [
    "# Model Evalutation"
   ]
  },
  {
   "cell_type": "code",
   "execution_count": null,
   "metadata": {},
   "outputs": [
    {
     "ename": "",
     "evalue": "",
     "output_type": "error",
     "traceback": [
      "\u001b[1;31mFailed to start the Kernel. \n",
      "\u001b[1;31mUnable to start Kernel '.venv (Python 3.10.16)' due to a timeout waiting for the ports to get used. \n",
      "\u001b[1;31mView Jupyter <a href='command:jupyter.viewOutput'>log</a> for further details."
     ]
    }
   ],
   "source": [
    "# Residual Analysis\n",
    "y_pred = final_model.predict(dtest)"
   ]
  },
  {
   "cell_type": "code",
   "execution_count": null,
   "metadata": {},
   "outputs": [
    {
     "ename": "",
     "evalue": "",
     "output_type": "error",
     "traceback": [
      "\u001b[1;31mFailed to start the Kernel. \n",
      "\u001b[1;31mUnable to start Kernel '.venv (Python 3.10.16)' due to a timeout waiting for the ports to get used. \n",
      "\u001b[1;31mView Jupyter <a href='command:jupyter.viewOutput'>log</a> for further details."
     ]
    }
   ],
   "source": [
    "residuals = y_val - y_pred\n",
    "plt.figure(figsize=(10, 6))\n",
    "sns.histplot(residuals, kde=True, color='blue')\n",
    "plt.title('Residual Distribution')\n",
    "plt.xlabel('Residuals')\n",
    "plt.grid(False)\n",
    "plt.show()\n",
    "\n",
    "# R-Squared\n",
    "from sklearn.metrics import r2_score\n",
    "r2 = r2_score(y_test_logged, y_pred)\n",
    "print(f\"R-Squared: {r2:.4f}\")\n"
   ]
  },
  {
   "cell_type": "code",
   "execution_count": null,
   "metadata": {},
   "outputs": [
    {
     "ename": "",
     "evalue": "",
     "output_type": "error",
     "traceback": [
      "\u001b[1;31mFailed to start the Kernel. \n",
      "\u001b[1;31mUnable to start Kernel '.venv (Python 3.10.16)' due to a timeout waiting for the ports to get used. \n",
      "\u001b[1;31mView Jupyter <a href='command:jupyter.viewOutput'>log</a> for further details."
     ]
    }
   ],
   "source": [
    "# Plot RMSE over Boosting Rounds\n",
    "plt.figure(figsize=(10, 6))\n",
    "plt.plot(cv_results['train-rmse-mean'], label='Train RMSE')\n",
    "plt.plot(cv_results['test-rmse-mean'], label='Test RMSE')\n",
    "plt.xlabel('Boosting Rounds')\n",
    "plt.ylabel('RMSE')\n",
    "plt.title('Cross-Validation Performance')\n",
    "plt.legend()\n",
    "plt.grid(False)\n",
    "plt.show()\n"
   ]
  }
 ],
 "metadata": {
  "kernelspec": {
   "display_name": ".venv",
   "language": "python",
   "name": "python3"
  },
  "language_info": {
   "codemirror_mode": {
    "name": "ipython",
    "version": 3
   },
   "file_extension": ".py",
   "mimetype": "text/x-python",
   "name": "python",
   "nbconvert_exporter": "python",
   "pygments_lexer": "ipython3",
   "version": "3.10.16"
  }
 },
 "nbformat": 4,
 "nbformat_minor": 2
}
